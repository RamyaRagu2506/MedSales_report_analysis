{
 "cells": [
  {
   "cell_type": "code",
   "execution_count": 1,
   "metadata": {},
   "outputs": [],
   "source": [
    "import pandas as pd\n",
    "import numpy as np \n"
   ]
  },
  {
   "cell_type": "code",
   "execution_count": 22,
   "metadata": {},
   "outputs": [],
   "source": [
    "df_ip_sales_summary_report = pd.read_excel('../data/raw/SampleData.xlsx',sheet_name=\"IP SALES Sumarry Report\")"
   ]
  },
  {
   "cell_type": "code",
   "execution_count": 23,
   "metadata": {},
   "outputs": [
    {
     "data": {
      "text/plain": [
       "109"
      ]
     },
     "execution_count": 23,
     "metadata": {},
     "output_type": "execute_result"
    }
   ],
   "source": [
    "len(df_ip_sales_summary_report.columns)"
   ]
  },
  {
   "cell_type": "code",
   "execution_count": 24,
   "metadata": {},
   "outputs": [
    {
     "data": {
      "text/plain": [
       "Registrationno           True\n",
       "Ipid                     True\n",
       "Patient Name             True\n",
       "Bill No                  True\n",
       "Bill Amount              True\n",
       "                         ... \n",
       "Test                     True\n",
       "Doctor Specialisation    True\n",
       "Diagnosis                True\n",
       "Category                 True\n",
       "Company                  True\n",
       "Length: 109, dtype: bool"
      ]
     },
     "execution_count": 24,
     "metadata": {},
     "output_type": "execute_result"
    }
   ],
   "source": [
    "(df_ip_sales_summary_report!= 0).any(axis=0)"
   ]
  },
  {
   "cell_type": "code",
   "execution_count": 25,
   "metadata": {},
   "outputs": [],
   "source": [
    "df_ip_sales_summary_report_removed_zero_value_cols = df_ip_sales_summary_report.loc[:, (df_ip_sales_summary_report != 0).any(axis=0)]"
   ]
  },
  {
   "cell_type": "code",
   "execution_count": 26,
   "metadata": {},
   "outputs": [
    {
     "data": {
      "text/plain": [
       "92"
      ]
     },
     "execution_count": 26,
     "metadata": {},
     "output_type": "execute_result"
    }
   ],
   "source": [
    "len(df_ip_sales_summary_report_removed_zero_value_cols.columns)"
   ]
  },
  {
   "cell_type": "code",
   "execution_count": 27,
   "metadata": {},
   "outputs": [
    {
     "data": {
      "text/html": [
       "<div>\n",
       "<style scoped>\n",
       "    .dataframe tbody tr th:only-of-type {\n",
       "        vertical-align: middle;\n",
       "    }\n",
       "\n",
       "    .dataframe tbody tr th {\n",
       "        vertical-align: top;\n",
       "    }\n",
       "\n",
       "    .dataframe thead th {\n",
       "        text-align: right;\n",
       "    }\n",
       "</style>\n",
       "<table border=\"1\" class=\"dataframe\">\n",
       "  <thead>\n",
       "    <tr style=\"text-align: right;\">\n",
       "      <th></th>\n",
       "      <th>Registrationno</th>\n",
       "      <th>Ipid</th>\n",
       "      <th>Patient Name</th>\n",
       "      <th>Bill No</th>\n",
       "      <th>Bill Amount</th>\n",
       "      <th>Discount</th>\n",
       "      <th>DoctorName</th>\n",
       "      <th>Discount.1</th>\n",
       "      <th>AdmitDatetime</th>\n",
       "      <th>DischargeDatetime</th>\n",
       "      <th>...</th>\n",
       "      <th>Diet Counselling</th>\n",
       "      <th>Food and Beverages</th>\n",
       "      <th>GST 5 % on Room Rent</th>\n",
       "      <th>PackageFees</th>\n",
       "      <th>Package Name</th>\n",
       "      <th>Test</th>\n",
       "      <th>Doctor Specialisation</th>\n",
       "      <th>Diagnosis</th>\n",
       "      <th>Category</th>\n",
       "      <th>Company</th>\n",
       "    </tr>\n",
       "  </thead>\n",
       "  <tbody>\n",
       "    <tr>\n",
       "      <th>0</th>\n",
       "      <td>101.0</td>\n",
       "      <td>1001.0</td>\n",
       "      <td>PN1</td>\n",
       "      <td>BILL0001</td>\n",
       "      <td>2812322.0</td>\n",
       "      <td>0.0</td>\n",
       "      <td>RAJU SV</td>\n",
       "      <td>ANAESTHESIOLOGY &amp; PAIN MANAGEMENT</td>\n",
       "      <td>2021-03-28 11:38:09</td>\n",
       "      <td>2021-07-29 22:50:42.487000</td>\n",
       "      <td>...</td>\n",
       "      <td>0.0</td>\n",
       "      <td>175230.0</td>\n",
       "      <td>0.0</td>\n",
       "      <td>0.0</td>\n",
       "      <td>NaN</td>\n",
       "      <td>STAGE I</td>\n",
       "      <td>ORTHOPAEDICS</td>\n",
       "      <td>MEDICAL</td>\n",
       "      <td>MOH-ZANZIBAR &amp; SEYCHELLES</td>\n",
       "      <td>MINISTRY OF HEALTH ZANZIBAR TANZANIA</td>\n",
       "    </tr>\n",
       "    <tr>\n",
       "      <th>1</th>\n",
       "      <td>102.0</td>\n",
       "      <td>1002.0</td>\n",
       "      <td>PN2</td>\n",
       "      <td>BILL0002</td>\n",
       "      <td>2009122.0</td>\n",
       "      <td>0.0</td>\n",
       "      <td>RAJU SV</td>\n",
       "      <td>ANAESTHESIOLOGY &amp; PAIN MANAGEMENT</td>\n",
       "      <td>2021-04-16 10:15:40</td>\n",
       "      <td>2021-07-29 22:53:00.127000</td>\n",
       "      <td>...</td>\n",
       "      <td>0.0</td>\n",
       "      <td>138400.0</td>\n",
       "      <td>0.0</td>\n",
       "      <td>0.0</td>\n",
       "      <td>NaN</td>\n",
       "      <td>EXTENDED</td>\n",
       "      <td>GENERAL SURGERY</td>\n",
       "      <td>MEDICAL</td>\n",
       "      <td>MOH-ZANZIBAR &amp; SEYCHELLES</td>\n",
       "      <td>MINISTRY OF HEALTH ZANZIBAR TANZANIA</td>\n",
       "    </tr>\n",
       "    <tr>\n",
       "      <th>2</th>\n",
       "      <td>103.0</td>\n",
       "      <td>1003.0</td>\n",
       "      <td>PN3</td>\n",
       "      <td>BILL0003</td>\n",
       "      <td>1043624.0</td>\n",
       "      <td>0.0</td>\n",
       "      <td>RAJU SV</td>\n",
       "      <td>ANAESTHESIOLOGY &amp; PAIN MANAGEMENT</td>\n",
       "      <td>2021-04-23 10:37:16</td>\n",
       "      <td>2021-07-29 22:54:49.377000</td>\n",
       "      <td>...</td>\n",
       "      <td>0.0</td>\n",
       "      <td>137970.0</td>\n",
       "      <td>0.0</td>\n",
       "      <td>0.0</td>\n",
       "      <td>NaN</td>\n",
       "      <td>NaN</td>\n",
       "      <td>NaN</td>\n",
       "      <td>MEDICAL</td>\n",
       "      <td>MOH-ZANZIBAR &amp; SEYCHELLES</td>\n",
       "      <td>MINISTRY OF HEALTH ZANZIBAR TANZANIA</td>\n",
       "    </tr>\n",
       "    <tr>\n",
       "      <th>3</th>\n",
       "      <td>104.0</td>\n",
       "      <td>1004.0</td>\n",
       "      <td>PN4</td>\n",
       "      <td>BILL0004</td>\n",
       "      <td>1405912.0</td>\n",
       "      <td>0.0</td>\n",
       "      <td>RAJU SV</td>\n",
       "      <td>ANAESTHESIOLOGY &amp; PAIN MANAGEMENT</td>\n",
       "      <td>2021-04-27 09:51:10</td>\n",
       "      <td>2021-08-04 14:43:10.463000</td>\n",
       "      <td>...</td>\n",
       "      <td>0.0</td>\n",
       "      <td>204215.0</td>\n",
       "      <td>0.0</td>\n",
       "      <td>0.0</td>\n",
       "      <td>NaN</td>\n",
       "      <td>NaN</td>\n",
       "      <td>NaN</td>\n",
       "      <td>MEDICAL</td>\n",
       "      <td>SIMSINT</td>\n",
       "      <td>SIMS INT</td>\n",
       "    </tr>\n",
       "    <tr>\n",
       "      <th>4</th>\n",
       "      <td>105.0</td>\n",
       "      <td>1005.0</td>\n",
       "      <td>PN5</td>\n",
       "      <td>BILL0005</td>\n",
       "      <td>2477740.0</td>\n",
       "      <td>208237.0</td>\n",
       "      <td>VIJAYALAKSHMI BALAKRISHNAN</td>\n",
       "      <td>INFECTIOUS DISEASES</td>\n",
       "      <td>2021-05-23 19:30:55</td>\n",
       "      <td>2021-07-09 15:10:22.933000</td>\n",
       "      <td>...</td>\n",
       "      <td>0.0</td>\n",
       "      <td>2685.0</td>\n",
       "      <td>0.0</td>\n",
       "      <td>0.0</td>\n",
       "      <td>NaN</td>\n",
       "      <td>NaN</td>\n",
       "      <td>NaN</td>\n",
       "      <td>MEDICAL</td>\n",
       "      <td>SIMS</td>\n",
       "      <td>MEDI ASSIST INDIA TPA PVT.LTD</td>\n",
       "    </tr>\n",
       "  </tbody>\n",
       "</table>\n",
       "<p>5 rows × 92 columns</p>\n",
       "</div>"
      ],
      "text/plain": [
       "   Registrationno    Ipid Patient Name   Bill No  Bill Amount  Discount  \\\n",
       "0           101.0  1001.0          PN1  BILL0001    2812322.0       0.0   \n",
       "1           102.0  1002.0          PN2  BILL0002    2009122.0       0.0   \n",
       "2           103.0  1003.0          PN3  BILL0003    1043624.0       0.0   \n",
       "3           104.0  1004.0          PN4  BILL0004    1405912.0       0.0   \n",
       "4           105.0  1005.0          PN5  BILL0005    2477740.0  208237.0   \n",
       "\n",
       "                   DoctorName                         Discount.1  \\\n",
       "0                     RAJU SV  ANAESTHESIOLOGY & PAIN MANAGEMENT   \n",
       "1                     RAJU SV  ANAESTHESIOLOGY & PAIN MANAGEMENT   \n",
       "2                     RAJU SV  ANAESTHESIOLOGY & PAIN MANAGEMENT   \n",
       "3                     RAJU SV  ANAESTHESIOLOGY & PAIN MANAGEMENT   \n",
       "4  VIJAYALAKSHMI BALAKRISHNAN                INFECTIOUS DISEASES   \n",
       "\n",
       "         AdmitDatetime           DischargeDatetime  ... Diet Counselling  \\\n",
       "0  2021-03-28 11:38:09  2021-07-29 22:50:42.487000  ...              0.0   \n",
       "1  2021-04-16 10:15:40  2021-07-29 22:53:00.127000  ...              0.0   \n",
       "2  2021-04-23 10:37:16  2021-07-29 22:54:49.377000  ...              0.0   \n",
       "3  2021-04-27 09:51:10  2021-08-04 14:43:10.463000  ...              0.0   \n",
       "4  2021-05-23 19:30:55  2021-07-09 15:10:22.933000  ...              0.0   \n",
       "\n",
       "  Food and Beverages  GST 5 % on Room Rent  PackageFees  Package Name  \\\n",
       "0           175230.0                   0.0          0.0           NaN   \n",
       "1           138400.0                   0.0          0.0           NaN   \n",
       "2           137970.0                   0.0          0.0           NaN   \n",
       "3           204215.0                   0.0          0.0           NaN   \n",
       "4             2685.0                   0.0          0.0           NaN   \n",
       "\n",
       "       Test  Doctor Specialisation  Diagnosis                   Category  \\\n",
       "0   STAGE I           ORTHOPAEDICS    MEDICAL  MOH-ZANZIBAR & SEYCHELLES   \n",
       "1  EXTENDED        GENERAL SURGERY    MEDICAL  MOH-ZANZIBAR & SEYCHELLES   \n",
       "2       NaN                    NaN    MEDICAL  MOH-ZANZIBAR & SEYCHELLES   \n",
       "3       NaN                    NaN    MEDICAL                    SIMSINT   \n",
       "4       NaN                    NaN    MEDICAL                       SIMS   \n",
       "\n",
       "                                Company  \n",
       "0  MINISTRY OF HEALTH ZANZIBAR TANZANIA  \n",
       "1  MINISTRY OF HEALTH ZANZIBAR TANZANIA  \n",
       "2  MINISTRY OF HEALTH ZANZIBAR TANZANIA  \n",
       "3                              SIMS INT  \n",
       "4         MEDI ASSIST INDIA TPA PVT.LTD  \n",
       "\n",
       "[5 rows x 92 columns]"
      ]
     },
     "execution_count": 27,
     "metadata": {},
     "output_type": "execute_result"
    }
   ],
   "source": [
    "df_ip_sales_summary_report_removed_zero_value_cols.head()"
   ]
  },
  {
   "cell_type": "code",
   "execution_count": 31,
   "metadata": {},
   "outputs": [],
   "source": [
    "df_ip_sales_summary_report_removed_zero_value_cols.to_excel('../data/processed/IPSalesSummaryReport.xlsx')"
   ]
  },
  {
   "cell_type": "code",
   "execution_count": null,
   "metadata": {},
   "outputs": [],
   "source": []
  },
  {
   "cell_type": "code",
   "execution_count": null,
   "metadata": {},
   "outputs": [],
   "source": []
  }
 ],
 "metadata": {
  "kernelspec": {
   "display_name": "base",
   "language": "python",
   "name": "python3"
  },
  "language_info": {
   "codemirror_mode": {
    "name": "ipython",
    "version": 3
   },
   "file_extension": ".py",
   "mimetype": "text/x-python",
   "name": "python",
   "nbconvert_exporter": "python",
   "pygments_lexer": "ipython3",
   "version": "3.9.12"
  },
  "orig_nbformat": 4,
  "vscode": {
   "interpreter": {
    "hash": "6e1c2bcd1dd5b32f06e15742dc8814b924429d124c0d9595fa0086a6c093c5ad"
   }
  }
 },
 "nbformat": 4,
 "nbformat_minor": 2
}
