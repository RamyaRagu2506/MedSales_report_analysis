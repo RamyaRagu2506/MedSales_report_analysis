{
 "cells": [
  {
   "cell_type": "code",
   "execution_count": 2,
   "metadata": {},
   "outputs": [],
   "source": [
    "import pandas as pd"
   ]
  },
  {
   "cell_type": "code",
   "execution_count": 2,
   "metadata": {},
   "outputs": [],
   "source": [
    "df_ip_equipment_details  = pd.read_excel('../data/raw/SampleData.xlsx',sheet_name=\"IP Equipment Details\")"
   ]
  },
  {
   "cell_type": "code",
   "execution_count": 4,
   "metadata": {},
   "outputs": [],
   "source": [
    "df_ip_equipment_details.to_excel('../data/processed/Ip_Equipment_Details.xlsx')"
   ]
  },
  {
   "cell_type": "code",
   "execution_count": 5,
   "metadata": {},
   "outputs": [],
   "source": [
    "df_ip_equipment_sales = pd.read_excel('../data/raw/SampleData.xlsx',sheet_name=\"Equipment - IP Sales Detail\")\n",
    "df_ip_sales_report =  pd.read_excel('../data/raw/SampleData.xlsx',sheet_name=\"IP Sales Report\")\n",
    "df_ip_sales_details = pd.read_excel('../data/raw/SampleData.xlsx',sheet_name=\"IP Sales Detail\")\n",
    "df_ip_discount_report = pd.read_excel('../data/raw/SampleData.xlsx',sheet_name=\"IP Discount Report\")"
   ]
  },
  {
   "cell_type": "code",
   "execution_count": 6,
   "metadata": {},
   "outputs": [],
   "source": [
    "df_ip_equipment_sales.to_excel('../data/processed/Ip_Equipment_Sales.xlsx')\n",
    "df_ip_sales_report.to_excel('../data/processed/Ip_Sales_Report.xlsx')\n",
    "df_ip_sales_details.to_excel('../data/processed/Ip_Sales_Details.xlsx')\n",
    "df_ip_discount_report.to_excel('../data/processed/Ip_Discount_Report.xlsx')"
   ]
  },
  {
   "cell_type": "code",
   "execution_count": 4,
   "metadata": {},
   "outputs": [],
   "source": [
    "df_biometric = pd.read_excel('../../data/raw/SampleData.xlsx',sheet_name=\"BIometric\")\n",
    "df_biometric.to_excel('../../data/processed/Biometric.xlsx')"
   ]
  },
  {
   "cell_type": "code",
   "execution_count": null,
   "metadata": {},
   "outputs": [],
   "source": []
  }
 ],
 "metadata": {
  "kernelspec": {
   "display_name": "base",
   "language": "python",
   "name": "python3"
  },
  "language_info": {
   "codemirror_mode": {
    "name": "ipython",
    "version": 3
   },
   "file_extension": ".py",
   "mimetype": "text/x-python",
   "name": "python",
   "nbconvert_exporter": "python",
   "pygments_lexer": "ipython3",
   "version": "3.9.13"
  },
  "orig_nbformat": 4
 },
 "nbformat": 4,
 "nbformat_minor": 2
}
